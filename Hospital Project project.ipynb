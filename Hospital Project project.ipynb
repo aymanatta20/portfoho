{
 "cells": [
  {
   "cell_type": "markdown",
   "id": "dfdb6ddb-09d0-472b-8f4b-9df006dd9082",
   "metadata": {},
   "source": [
    "**Main Entities:** <br> \n",
    "1. patient\n",
    "2. doctor\n",
    "3. staff\n",
    "4. departments\n",
    "5. medicine\n",
    "6. rooms\n",
    "7. operation\n",
    "8. Hospital "
   ]
  },
  {
   "cell_type": "code",
   "execution_count": 1,
   "id": "d42eacbd-e6d7-40c4-bf12-c044fa374901",
   "metadata": {},
   "outputs": [],
   "source": [
    "class Human : \n",
    "\n",
    "    def __init__(self, name, age, gender): \n",
    "        self.name = name\n",
    "        self.gender = gender\n",
    "        self.age = age\n",
    "\n",
    "    def display_info(self) : \n",
    "        print(self.name, self.age , self.gender )"
   ]
  },
  {
   "cell_type": "code",
   "execution_count": 80,
   "id": "6db9214e-f78d-4980-85c3-d4ed4e95abd3",
   "metadata": {},
   "outputs": [],
   "source": [
    "class Doctor (Human): \n",
    "\n",
    "    def __init__(self, name, age , gender, specialization , salary , shift ): \n",
    "        super().__init__(name, age, gender)\n",
    "        self.specialization = specialization \n",
    "        self.salary = salary \n",
    "        self.shift = shift\n",
    "        self.patients = [ ] \n",
    "        self.nurses = [ ]\n",
    "\n",
    "    def add_patient(self, patient) : \n",
    "        self.patients.append(patient) \n",
    "\n",
    "\n",
    "    def descibe_medicine(self, patient, medicine ): \n",
    "        patient.medicines.append(medicine) \n",
    "\n",
    "    def add_nurse (self, nurse ) : \n",
    "        self.nurses.append(nurse)\n",
    "\n",
    "    def display_info ( self) : \n",
    "        super().display_info()\n",
    "        print(self.specialization)\n",
    "\n",
    "    def show_patients(self) : \n",
    "        for patient in self.patients: \n",
    "            print(patient.name )"
   ]
  },
  {
   "cell_type": "code",
   "execution_count": 482,
   "id": "acc16b53-b263-4540-a4e6-d8a2243f29a3",
   "metadata": {},
   "outputs": [],
   "source": [
    "class Patient(Human): \n",
    "\n",
    "    def __init__(self, name, age, gender , illness , patient_id ) : \n",
    "        super().__init__(name, age, gender)\n",
    "        self.illness = [illness]\n",
    "        self.patient_id = patient_id \n",
    "        self.medicines = [ ]\n",
    "        self.doctors = [ ]\n",
    "        self.patient_condition = \"Not been Examined yet\"\n",
    "\n",
    "    def update_illness(self, illnesstype, case): \n",
    "        if case == \"healed\": \n",
    "            try: \n",
    "                self.illness.remove(illnesstype)\n",
    "                print(self.name, \"has been healed from\", illnesstype)\n",
    "            except: \n",
    "                print(self.name, \"was alredy healed\")\n",
    "        else: \n",
    "            self.illness.append(illnesstype)\n",
    "    \n",
    "    def check_in(self):\n",
    "        print(self.name, \"has checked in to the hospital \")\n",
    "\n",
    "    def assign_doctor(self, doctor): \n",
    "        self.doctors.append(doctor)\n",
    "\n",
    "    def show_medicines(self) : \n",
    "        for mid in self.medicines: \n",
    "            print(mid.name)\n",
    "\n",
    "    def discharge(self) : \n",
    "        print(self.name, \"has been discharged \")\n",
    "\n",
    "    def update_condition (self, condition ) : \n",
    "        self.patient_condition = condition "
   ]
  },
  {
   "cell_type": "code",
   "execution_count": 483,
   "id": "03ac67a8-84c5-4481-9aa4-a23ab1971059",
   "metadata": {},
   "outputs": [],
   "source": [
    "class Nurse(Human) : \n",
    "    def __init__(self, name, age, gender, nursetype ): \n",
    "        super().__init__(name, age, gender )\n",
    "        self.nursetype = nursetype\n",
    "        self.shift = \"basic shift\"\n",
    "\n",
    "    def change_shift(self, newshift):\n",
    "        self.shift = newshift \n",
    "\n",
    "    def display_info(self) : \n",
    "        super().display_info()\n",
    "        print(self.nursetype)\n",
    "        print(self.shift)"
   ]
  },
  {
   "cell_type": "code",
   "execution_count": 484,
   "id": "a9a1326c-6007-4872-95c1-990750475542",
   "metadata": {},
   "outputs": [],
   "source": [
    "class Medicine: \n",
    "\n",
    "    def __init__(self, medicine_name) : \n",
    "        self.name = medicine_name\n",
    "        self.medicine_effect = 10 \n",
    "\n",
    "    def update_effect(self, neweffect): \n",
    "        self.medicine_effect = neweffect\n",
    "   \n",
    "    def medicine_info(self) : \n",
    "        print(self.medicine_name)\n",
    "        print(self.medicine_effect)"
   ]
  },
  {
   "cell_type": "code",
   "execution_count": 485,
   "id": "ae904fc9-242e-4991-9e57-0380769586b1",
   "metadata": {},
   "outputs": [],
   "source": [
    "class Rooms: \n",
    "\n",
    "    def __init__(self, room_number, room_floor, room_status = True ) : \n",
    "        self.number = room_number \n",
    "        self.floor = room_floor \n",
    "        self.status = room_status \n",
    "\n",
    "    def assign_room(self): \n",
    "        if room_status == True: \n",
    "            self.empty = False\n",
    "            self.room_status = False\n",
    "        else: \n",
    "            if self.room_status == False: \n",
    "                print(\"sorry, room is already taken\")"
   ]
  },
  {
   "cell_type": "code",
   "execution_count": 486,
   "id": "ae995f77-51b3-4000-aaa7-180453c9962c",
   "metadata": {},
   "outputs": [],
   "source": [
    "class Operation(): \n",
    "\n",
    "    def __init__(self, name, date, time, surgon , patient, nurses = None  ): \n",
    "        self.name = name\n",
    "        self.date = date\n",
    "        self.time = time\n",
    "        self.surgon = surgon\n",
    "        self.nurses = nurses\n",
    "        self.patient = patient \n",
    "    \n",
    "    def add_nurse(self, nurse) : \n",
    "        self.nurses.append(nurse)\n",
    "\n",
    "    def perform(self): \n",
    "        print(\"operation was done to \", patient.name )\n",
    "\n",
    "    def operation_status(self, illness, status = \"success\" ) : \n",
    "        if status == \"success\" : \n",
    "            self.patient.update_illness(illness, \"healed\")\n",
    "        else: \n",
    "            print(\"the operation was not a success\")"
   ]
  },
  {
   "cell_type": "code",
   "execution_count": 661,
   "id": "606ff6af-4dba-427c-893c-167d5dd4bed8",
   "metadata": {},
   "outputs": [],
   "source": [
    "class Hosiptal() : \n",
    "\n",
    "    def __init__(self , name , location ): \n",
    "        self.name = name\n",
    "        self.location = location\n",
    "        self.doctors = []\n",
    "        self.nurses = [] \n",
    "        self.patients = [ ]\n",
    "        self.capacity = 2\n",
    "        self.operations = [ ]\n",
    "        self.ICU = [ ]\n",
    "\n",
    "    def add_patient_toICU(self, patient) :\n",
    "        self.ICU.append(patient)\n",
    "\n",
    "    def ICU_patients ( self) : \n",
    "        for patient in self.ICU: \n",
    "            print(patient.name) \n",
    "    \n",
    "    def add_patient(self, patient) : \n",
    "        if self.capacity != 0 :\n",
    "            self.patients.append(patient)\n",
    "            self.capacity -= 1 \n",
    "        else: \n",
    "            print(\"there are no capacity\")\n",
    "            \n",
    "\n",
    "    def discharge_patient( self, patient): \n",
    "        print(self.patient.name , \"was charged\" ) \n",
    "        self.patients.remove(patient)\n",
    "        \n",
    "    \n",
    "    def add_doctor( self, doctor ): \n",
    "        self.doctors.append(doctor) \n",
    "\n",
    "    def add_nurse(self, nurse) : \n",
    "        self.nurses.append(nurse)\n",
    "\n",
    "    def extend_capacity(self, newcapacity ) : \n",
    "        self.capacity += newcapacity\n",
    "\n",
    "    def add_operation (self, operation ): \n",
    "        self.operations.append(operation)\n",
    "\n",
    "    def perform_rays(self, patient) :\n",
    "        print(\"rays has been conducted to\", patient.name)\n",
    "        patient.update_condition(\"ok\")\n",
    "        print(patient.patient_condition)\n",
    "        \n",
    "    def recieve_from_ambulance(self, patient) : \n",
    "        self.patients.append(patient)\n",
    "        self.perform_rays(patient)"
   ]
  },
  {
   "cell_type": "code",
   "execution_count": 662,
   "id": "228a7f4f-698d-40e5-87ca-edbc63cc6763",
   "metadata": {},
   "outputs": [],
   "source": [
    "doctor1 = Doctor(\"Ahmed\", 23, \"male\", \"Cardiology\", 20000 ,\"morning\") "
   ]
  },
  {
   "cell_type": "code",
   "execution_count": 663,
   "id": "17de702a-2466-42a5-bde3-7319e66745e1",
   "metadata": {},
   "outputs": [
    {
     "data": {
      "text/plain": [
       "'Ahmed'"
      ]
     },
     "execution_count": 663,
     "metadata": {},
     "output_type": "execute_result"
    }
   ],
   "source": [
    "doctor1.name "
   ]
  },
  {
   "cell_type": "code",
   "execution_count": 664,
   "id": "655385e0-d33b-4cec-a528-73e3dd3894d3",
   "metadata": {},
   "outputs": [
    {
     "data": {
      "text/plain": [
       "23"
      ]
     },
     "execution_count": 664,
     "metadata": {},
     "output_type": "execute_result"
    }
   ],
   "source": [
    "doctor1.age"
   ]
  },
  {
   "cell_type": "code",
   "execution_count": 665,
   "id": "b575f14e-fcb1-48aa-ad81-90cb4e1fc4a9",
   "metadata": {},
   "outputs": [
    {
     "data": {
      "text/plain": [
       "20000"
      ]
     },
     "execution_count": 665,
     "metadata": {},
     "output_type": "execute_result"
    }
   ],
   "source": [
    "doctor1.salary"
   ]
  },
  {
   "cell_type": "code",
   "execution_count": 666,
   "id": "22a4c8a7-f908-42ad-9a30-7f72f10b2425",
   "metadata": {},
   "outputs": [
    {
     "data": {
      "text/plain": [
       "'Cardiology'"
      ]
     },
     "execution_count": 666,
     "metadata": {},
     "output_type": "execute_result"
    }
   ],
   "source": [
    "doctor1.specialization"
   ]
  },
  {
   "cell_type": "code",
   "execution_count": 667,
   "id": "cbf5d5a5-3191-40e7-9403-1183ab0a4fd7",
   "metadata": {},
   "outputs": [],
   "source": [
    "doctor2 = Doctor(\"Ali\", 27, \"male\", \"Orthopedics\", 26000 ,\"night\") "
   ]
  },
  {
   "cell_type": "code",
   "execution_count": 668,
   "id": "9628979f-ff9b-4567-b5d8-790c21d77c37",
   "metadata": {},
   "outputs": [],
   "source": [
    "nurse1 = Nurse(\"Nurse Smith\", 30, \"Female\", \"Emergency\" )"
   ]
  },
  {
   "cell_type": "code",
   "execution_count": 669,
   "id": "b2e1011b-d9fc-4d6d-a1f4-608d8345cfd8",
   "metadata": {},
   "outputs": [],
   "source": [
    "nurse2 = Nurse(\"Nurse Johnson\", 25, \"Male\", \"ICU\")"
   ]
  },
  {
   "cell_type": "code",
   "execution_count": 670,
   "id": "4c1c4a01-33aa-4d0e-b235-ad67f5c6f751",
   "metadata": {},
   "outputs": [],
   "source": [
    "patient1 = Patient(\"Essam\", 22, \"male\", \"psychopath\", 1) "
   ]
  },
  {
   "cell_type": "code",
   "execution_count": 671,
   "id": "483aadfc-049d-44de-8cec-e05c27a23254",
   "metadata": {},
   "outputs": [],
   "source": [
    "patient2 = Patient(\"Wael\", 22, \"male\", \"alzhimer\", 2) "
   ]
  },
  {
   "cell_type": "code",
   "execution_count": 672,
   "id": "06f39b13-c2d5-450e-bde6-928885199424",
   "metadata": {},
   "outputs": [],
   "source": [
    "operation1 = Operation(\"Appendectomy\", \"1/1/2025\", \"12:30\", doctor1 , patient1, [nurse1]) "
   ]
  },
  {
   "cell_type": "code",
   "execution_count": 673,
   "id": "34c37174-9e9a-43aa-b7e5-b2579ad8f23e",
   "metadata": {},
   "outputs": [],
   "source": [
    "operation1.add_nurse(nurse2)"
   ]
  },
  {
   "cell_type": "code",
   "execution_count": 674,
   "id": "c524470e-422c-45f9-a82c-ebbb8b4c476e",
   "metadata": {},
   "outputs": [],
   "source": [
    "mid1 = Medicine(\"panadol\")"
   ]
  },
  {
   "cell_type": "code",
   "execution_count": 675,
   "id": "981e386e-a31c-45c7-b0b7-0a91fa6d4c42",
   "metadata": {},
   "outputs": [],
   "source": [
    "doctor1.add_patient(patient1) "
   ]
  },
  {
   "cell_type": "code",
   "execution_count": 676,
   "id": "6c6f22b3-fddd-4c9b-aad4-9343dbe67fac",
   "metadata": {},
   "outputs": [],
   "source": [
    "doctor1.descibe_medicine(patient1, mid1 )"
   ]
  },
  {
   "cell_type": "code",
   "execution_count": 677,
   "id": "031912af-0179-4838-9773-2270979afe6a",
   "metadata": {},
   "outputs": [
    {
     "name": "stdout",
     "output_type": "stream",
     "text": [
      "panadol\n"
     ]
    }
   ],
   "source": [
    "patient1.show_medicines() "
   ]
  },
  {
   "cell_type": "code",
   "execution_count": 678,
   "id": "28106f52-b83d-49aa-85ef-1b73260ec455",
   "metadata": {},
   "outputs": [],
   "source": [
    "mid2 = Medicine(\"Congistal\")"
   ]
  },
  {
   "cell_type": "code",
   "execution_count": 679,
   "id": "4fd0f880-1e69-4496-bea9-d1f7b453a4d0",
   "metadata": {},
   "outputs": [],
   "source": [
    "doctor1.descibe_medicine(patient1, mid2 )  "
   ]
  },
  {
   "cell_type": "code",
   "execution_count": 680,
   "id": "fa198099-f64a-49d5-b8d9-8b1b8f679d1a",
   "metadata": {},
   "outputs": [
    {
     "name": "stdout",
     "output_type": "stream",
     "text": [
      "panadol\n",
      "Congistal\n"
     ]
    }
   ],
   "source": [
    "patient1.show_medicines() "
   ]
  },
  {
   "cell_type": "code",
   "execution_count": 681,
   "id": "e0c651a3-572a-49c6-9fe6-40b74679e232",
   "metadata": {},
   "outputs": [],
   "source": [
    "doctor1.add_nurse(nurse1)"
   ]
  },
  {
   "cell_type": "code",
   "execution_count": 682,
   "id": "9b46c65b-14f1-4ca7-813d-5c81b4352a3a",
   "metadata": {},
   "outputs": [
    {
     "data": {
      "text/plain": [
       "'Nurse Smith'"
      ]
     },
     "execution_count": 682,
     "metadata": {},
     "output_type": "execute_result"
    }
   ],
   "source": [
    "doctor1.nurses[0].name "
   ]
  },
  {
   "cell_type": "code",
   "execution_count": 683,
   "id": "121c7e67-b189-4705-aacb-72cc971e484e",
   "metadata": {},
   "outputs": [],
   "source": [
    "doctor1.add_patient(patient2)"
   ]
  },
  {
   "cell_type": "code",
   "execution_count": 684,
   "id": "ef86f54a-f59c-41f0-9723-2676d60c2308",
   "metadata": {},
   "outputs": [
    {
     "name": "stdout",
     "output_type": "stream",
     "text": [
      "Essam\n",
      "Wael\n"
     ]
    }
   ],
   "source": [
    "doctor1.show_patients() "
   ]
  },
  {
   "cell_type": "code",
   "execution_count": 685,
   "id": "29069279-005a-44fd-a495-9520d21a37a4",
   "metadata": {},
   "outputs": [],
   "source": [
    "myhospital = Hosiptal(\"Hope\" , \"Dokki\")"
   ]
  },
  {
   "cell_type": "code",
   "execution_count": 686,
   "id": "e9a20345-b82f-4da4-b15a-7e233a8f8826",
   "metadata": {},
   "outputs": [],
   "source": [
    "myhospital.add_doctor(doctor1) \n",
    "myhospital.add_doctor(doctor2) \n",
    "myhospital.add_nurse(nurse1) \n",
    "myhospital.add_nurse(nurse2) \n",
    "myhospital.patients.append(patient1)"
   ]
  },
  {
   "cell_type": "code",
   "execution_count": 687,
   "id": "12db400a-90c1-4c4f-b31d-fdcf4e369fc1",
   "metadata": {},
   "outputs": [
    {
     "data": {
      "text/plain": [
       "'Nurse Smith'"
      ]
     },
     "execution_count": 687,
     "metadata": {},
     "output_type": "execute_result"
    }
   ],
   "source": [
    "myhospital.nurses[0].name "
   ]
  },
  {
   "cell_type": "code",
   "execution_count": 688,
   "id": "c70163ef-67b0-464e-a1f6-a4a35ae0dbf4",
   "metadata": {},
   "outputs": [
    {
     "name": "stdout",
     "output_type": "stream",
     "text": [
      "Essam has been healed from psychopath\n"
     ]
    }
   ],
   "source": [
    "operation1.operation_status(\"psychopath\", \"success\")"
   ]
  },
  {
   "cell_type": "code",
   "execution_count": 689,
   "id": "090e8397-2691-4c4d-8e1b-ec2b2080d496",
   "metadata": {},
   "outputs": [
    {
     "name": "stdout",
     "output_type": "stream",
     "text": [
      "the operation was not a success\n"
     ]
    }
   ],
   "source": [
    "operation1.operation_status(\"psychopath\", \"failed\")"
   ]
  },
  {
   "cell_type": "code",
   "execution_count": 690,
   "id": "2b6e87d5-3567-45b6-b5a3-c55a040c390f",
   "metadata": {},
   "outputs": [
    {
     "name": "stdout",
     "output_type": "stream",
     "text": [
      "rays has been conducted to Essam\n",
      "ok\n"
     ]
    }
   ],
   "source": [
    "myhospital.perform_rays(patient1)"
   ]
  },
  {
   "cell_type": "code",
   "execution_count": 691,
   "id": "3beb1c79-3a28-4de3-8b2b-841dd0bc67d7",
   "metadata": {},
   "outputs": [
    {
     "data": {
      "text/plain": [
       "'ok'"
      ]
     },
     "execution_count": 691,
     "metadata": {},
     "output_type": "execute_result"
    }
   ],
   "source": [
    "patient1.patient_condition"
   ]
  },
  {
   "cell_type": "code",
   "execution_count": 692,
   "id": "f3a3b86e-be31-402c-85c9-105b47b12349",
   "metadata": {},
   "outputs": [],
   "source": [
    "patient3 = patient1 = Patient(\"Amgad\", 22, \"male\", \"psychopath\", 3) "
   ]
  },
  {
   "cell_type": "code",
   "execution_count": 693,
   "id": "39fb13f1-01b8-42d8-8183-1dc0ebd4caee",
   "metadata": {},
   "outputs": [
    {
     "name": "stdout",
     "output_type": "stream",
     "text": [
      "rays has been conducted to Amgad\n",
      "ok\n"
     ]
    }
   ],
   "source": [
    "myhospital.recieve_from_ambulance(patient3) "
   ]
  },
  {
   "cell_type": "code",
   "execution_count": 694,
   "id": "7a778e95-2bdc-49cb-b6cd-fe19fcedfa79",
   "metadata": {},
   "outputs": [
    {
     "data": {
      "text/plain": [
       "'Amgad'"
      ]
     },
     "execution_count": 694,
     "metadata": {},
     "output_type": "execute_result"
    }
   ],
   "source": [
    "myhospital.patients[-1].name "
   ]
  },
  {
   "cell_type": "code",
   "execution_count": 695,
   "id": "15a1bb47-1d18-4269-8568-992b434ab345",
   "metadata": {},
   "outputs": [],
   "source": [
    "myhospital.add_patient(patient1)"
   ]
  },
  {
   "cell_type": "code",
   "execution_count": 696,
   "id": "94e84f32-2685-4534-a5dd-9a15416f1cf0",
   "metadata": {},
   "outputs": [],
   "source": [
    "myhospital.add_patient(patient2)"
   ]
  },
  {
   "cell_type": "code",
   "execution_count": 697,
   "id": "707d3653-ed30-415e-ac7f-34bc9859cb1d",
   "metadata": {},
   "outputs": [
    {
     "name": "stdout",
     "output_type": "stream",
     "text": [
      "there are no capacity\n"
     ]
    }
   ],
   "source": [
    "myhospital.add_patient(patient3) "
   ]
  },
  {
   "cell_type": "code",
   "execution_count": 698,
   "id": "6dff22b2-242a-4950-890b-0f0f680443ff",
   "metadata": {},
   "outputs": [
    {
     "name": "stdout",
     "output_type": "stream",
     "text": [
      "rays has been conducted to Amgad\n",
      "ok\n"
     ]
    }
   ],
   "source": [
    "myhospital.perform_rays(patient3)"
   ]
  },
  {
   "cell_type": "code",
   "execution_count": 699,
   "id": "7dfd1028-fd08-4a8c-b7a6-57eb3fd47813",
   "metadata": {},
   "outputs": [
    {
     "data": {
      "text/plain": [
       "'ok'"
      ]
     },
     "execution_count": 699,
     "metadata": {},
     "output_type": "execute_result"
    }
   ],
   "source": [
    "patient3.patient_condition"
   ]
  },
  {
   "cell_type": "code",
   "execution_count": 700,
   "id": "fb9f338f-0f4f-4faf-b319-62de55cf8370",
   "metadata": {},
   "outputs": [],
   "source": [
    "patient4 = Patient(\"Eman\", 22, \"Femal\", \"psychopath\", 4) "
   ]
  },
  {
   "cell_type": "code",
   "execution_count": 701,
   "id": "e69f0689-eaed-48f7-88b8-a7c9c37f38e9",
   "metadata": {},
   "outputs": [
    {
     "name": "stdout",
     "output_type": "stream",
     "text": [
      "rays has been conducted to Eman\n",
      "ok\n"
     ]
    }
   ],
   "source": [
    "myhospital.recieve_from_ambulance(patient4) "
   ]
  },
  {
   "cell_type": "code",
   "execution_count": 702,
   "id": "4d5a7dea-c1d5-48a2-8aae-a4d8a6ab0872",
   "metadata": {},
   "outputs": [
    {
     "data": {
      "text/plain": [
       "'ok'"
      ]
     },
     "execution_count": 702,
     "metadata": {},
     "output_type": "execute_result"
    }
   ],
   "source": [
    "patient4.patient_condition"
   ]
  },
  {
   "cell_type": "code",
   "execution_count": 703,
   "id": "1ac1bc62-9bcf-4cf5-9613-31826a4e8b44",
   "metadata": {},
   "outputs": [],
   "source": [
    "myhospital.add_patient_toICU(patient4)"
   ]
  },
  {
   "cell_type": "code",
   "execution_count": 704,
   "id": "1ba0df0b-fe26-4fec-b4eb-7744e98d562d",
   "metadata": {},
   "outputs": [],
   "source": [
    "myhospital.add_patient_toICU(patient3)"
   ]
  },
  {
   "cell_type": "code",
   "execution_count": 705,
   "id": "80852ac4-038c-4fac-a5e2-a1fa9283518a",
   "metadata": {},
   "outputs": [
    {
     "name": "stdout",
     "output_type": "stream",
     "text": [
      "Eman\n",
      "Amgad\n"
     ]
    }
   ],
   "source": [
    "myhospital.ICU_patients() "
   ]
  },
  {
   "cell_type": "code",
   "execution_count": 706,
   "id": "61e96459-7c7d-46c9-8684-4a4c4f4624f6",
   "metadata": {},
   "outputs": [
    {
     "name": "stdout",
     "output_type": "stream",
     "text": [
      "Ahmed 23 male\n",
      "Cardiology\n"
     ]
    }
   ],
   "source": [
    "doctor1.display_info()"
   ]
  },
  {
   "cell_type": "code",
   "execution_count": 708,
   "id": "209796f8-fd5d-40b5-ae01-ddb859291d90",
   "metadata": {},
   "outputs": [],
   "source": [
    "nurse2.change_shift(\"9-12\")"
   ]
  },
  {
   "cell_type": "code",
   "execution_count": 709,
   "id": "a4baa12c-6406-4096-9d54-1c14b27bf174",
   "metadata": {},
   "outputs": [
    {
     "data": {
      "text/plain": [
       "'9-12'"
      ]
     },
     "execution_count": 709,
     "metadata": {},
     "output_type": "execute_result"
    }
   ],
   "source": [
    "nurse2.shift"
   ]
  },
  {
   "cell_type": "code",
   "execution_count": null,
   "id": "1ca74161-be74-4e8a-85c7-77fb81948073",
   "metadata": {},
   "outputs": [],
   "source": []
  }
 ],
 "metadata": {
  "kernelspec": {
   "display_name": "Python 3 (ipykernel)",
   "language": "python",
   "name": "python3"
  },
  "language_info": {
   "codemirror_mode": {
    "name": "ipython",
    "version": 3
   },
   "file_extension": ".py",
   "mimetype": "text/x-python",
   "name": "python",
   "nbconvert_exporter": "python",
   "pygments_lexer": "ipython3",
   "version": "3.12.2"
  }
 },
 "nbformat": 4,
 "nbformat_minor": 5
}
