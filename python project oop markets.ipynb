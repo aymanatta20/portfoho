{
 "cells": [
  {
   "cell_type": "code",
   "execution_count": 1,
   "metadata": {},
   "outputs": [],
   "source": [
    "from tkinter import* \n",
    "\n",
    "main_window = Tk()\n",
    "main_window.title(\"Markets\")\n",
    "\n",
    "screen_width = main_window.winfo_screenwidth()\n",
    "screen_height = main_window.winfo_screenheight()\n",
    "\n",
    "middle_width= screen_width //2 - 400//2\n",
    "middle_hight= screen_height//2 - 400//2\n",
    "main_window.geometry(f'700x500+{middle_width}+{middle_hight}')\n",
    "\n",
    "L=Label(main_window, text=\"welcome to market:\\n Electrical_Tools : \\n food : \\n Games : \\n Detergents :  \\n ReadyFood :  \") \n",
    "L.pack()\n",
    "\n",
    "\n",
    "\n",
    "main_window.mainloop()"
   ]
  },
  {
   "cell_type": "code",
   "execution_count": 2,
   "metadata": {},
   "outputs": [
    {
     "name": "stdout",
     "output_type": "stream",
     "text": [
      "welcome to market:\n"
     ]
    }
   ],
   "source": [
    "class Markets :\n",
    "    print(\"welcome to market:\")\n",
    "    def __init__(self,name,phonenumber) : \n",
    "        self.name = input('please enter a name ')\n",
    "        self.phonenumber= input('please enter a phonenumber ')\n",
    "\n",
    "   \n",
    "    def Quantities (self) :\n",
    "        self.check_your_oder = input(\"please enter a oder:\")\n",
    "        self.how_mush_the_quantity = input(\"please enter a quantity:\")\n",
    "        self.phonenumber = int(input(\"please enter a phonenumber :\"))\n",
    "    "
   ]
  },
  {
   "cell_type": "code",
   "execution_count": 3,
   "metadata": {},
   "outputs": [],
   "source": [
    "class Food (Markets) :\n",
    "    def __init__(self,foodstuffs,freshproducts) :\n",
    "        super().Quantities() \n",
    "        self.foodstuffs =foodstuffs\n",
    "        self.freshproducts=freshproducts\n",
    "    \n",
    "    \n",
    "    def foodstuffs (self) :\n",
    "        self.foodstuffs.append(foodstuffs)   \n",
    "    \n",
    "    \n",
    "    def  freshproducts (self) :\n",
    "        self.freshproducts.append(freshproducts) \n",
    "\n",
    "    def show_foodstuffs(self):\n",
    "        for foodstuffs in self.check_your_oder:\n",
    "            print(foodstuffs.check_your_oder)\n",
    "\n",
    "    def show_freshproducts(self) :\n",
    "        for freshproducts in self.check_your_oder :\n",
    "            print(freshproducts.check_your_oder)     \n"
   ]
  },
  {
   "cell_type": "code",
   "execution_count": 4,
   "metadata": {},
   "outputs": [],
   "source": [
    "class Electrical_Tools(Markets) :\n",
    "    def __init__(self , fridge , washing_machine):\n",
    "        super().Quantities()\n",
    "        self.fridge = fridge \n",
    "        self.washing_machine = washing_machine\n",
    "\n",
    "    def  add_fridge(self) :\n",
    "        self.add_fridge.append(add_feidge)\n",
    "\n",
    "    def add_washing_machine(self) :\n",
    "        self.add_washing_machine.append(add_washing_machine) \n",
    "\n",
    "    def show_add_fridge(self) :\n",
    "        for add_fridge in self.check_your_oder :\n",
    "            print(add_fridge.check_your_oder)\n",
    "\n",
    "    def show_add_washing_machine(self) :\n",
    "        for add_washing_machine in self.check_your_oder :\n",
    "            print(add_washing_machine.check_your_oder) \n",
    "        \n",
    "    "
   ]
  },
  {
   "cell_type": "code",
   "execution_count": 11,
   "metadata": {},
   "outputs": [],
   "source": [
    "class Games(Markets) :\n",
    "    def __init__(self , sports_games,building_games) :\n",
    "        super().Quantities()\n",
    "        self.sports_games = [\"match\",\"football\"]\n",
    "        self.building_games = [\"cubes\"]\n",
    "    \n",
    "    def add_sport(self) :\n",
    "        self.add_sport.append(add_sport)\n",
    "\n",
    "    def add_building(self) :\n",
    "        self.add_building.append(add_building)\n",
    "\n",
    "\n",
    "    def show_add_sport(self) :\n",
    "        for add_sport in self.check_your_oder :\n",
    "            print(add_sport.check_your_oder)  \n",
    "\n",
    "    def show_add_building(self) :\n",
    "        for add_building in check_your_oder:\n",
    "            print(add_building.check_your_oder)                  "
   ]
  },
  {
   "cell_type": "code",
   "execution_count": 7,
   "metadata": {},
   "outputs": [],
   "source": [
    "class Invoice(Markets) :\n",
    "    def __init__(self , name , phonenumber , amount) :\n",
    "        super().__init__(name,phonenumber)\n",
    "        amount = amount\n",
    "    def amount(self) :\n",
    "        self.amount.append(amount)\n",
    "        return amount\n",
    "        \n"
   ]
  },
  {
   "cell_type": "code",
   "execution_count": 32,
   "metadata": {},
   "outputs": [],
   "source": [
    "myinvoice = Invoice(1235,45,\"ayman\")\n"
   ]
  },
  {
   "cell_type": "code",
   "execution_count": 33,
   "metadata": {},
   "outputs": [
    {
     "data": {
      "text/plain": [
       "'ayman'"
      ]
     },
     "execution_count": 33,
     "metadata": {},
     "output_type": "execute_result"
    }
   ],
   "source": [
    "myinvoice.name"
   ]
  },
  {
   "cell_type": "code",
   "execution_count": 34,
   "metadata": {},
   "outputs": [
    {
     "data": {
      "text/plain": [
       "'123'"
      ]
     },
     "execution_count": 34,
     "metadata": {},
     "output_type": "execute_result"
    }
   ],
   "source": [
    "myinvoice.phonenumber"
   ]
  },
  {
   "cell_type": "code",
   "execution_count": 35,
   "metadata": {},
   "outputs": [
    {
     "data": {
      "text/plain": [
       "<bound method Invoice.amount of <__main__.Invoice object at 0x000001EC3D2C6720>>"
      ]
     },
     "execution_count": 35,
     "metadata": {},
     "output_type": "execute_result"
    }
   ],
   "source": [
    "myinvoice.amount"
   ]
  },
  {
   "cell_type": "code",
   "execution_count": 8,
   "metadata": {},
   "outputs": [],
   "source": [
    "class Staff(Markets):\n",
    "    def __init__(self , name , gender , age ,  salary , shift) :\n",
    "        self.name = name\n",
    "        self.gender = gender\n",
    "        self.age = age   \n",
    "        self.salary = salary\n",
    "        self.shift = shift\n",
    "\n",
    "    def add_products(self) :\n",
    "        self.add_products.append(add_products)\n",
    "        "
   ]
  },
  {
   "cell_type": "code",
   "execution_count": 37,
   "metadata": {},
   "outputs": [],
   "source": [
    "mystaff = Staff(\"ahmed\",\"male\",25,4500,\"8-3\")"
   ]
  },
  {
   "cell_type": "code",
   "execution_count": 38,
   "metadata": {},
   "outputs": [
    {
     "data": {
      "text/plain": [
       "'8-3'"
      ]
     },
     "execution_count": 38,
     "metadata": {},
     "output_type": "execute_result"
    }
   ],
   "source": [
    "mystaff.shift"
   ]
  },
  {
   "cell_type": "code",
   "execution_count": 39,
   "metadata": {},
   "outputs": [
    {
     "data": {
      "text/plain": [
       "'male'"
      ]
     },
     "execution_count": 39,
     "metadata": {},
     "output_type": "execute_result"
    }
   ],
   "source": [
    "mystaff.gender"
   ]
  },
  {
   "cell_type": "code",
   "execution_count": 40,
   "metadata": {},
   "outputs": [
    {
     "data": {
      "text/plain": [
       "4500"
      ]
     },
     "execution_count": 40,
     "metadata": {},
     "output_type": "execute_result"
    }
   ],
   "source": [
    "mystaff.salary"
   ]
  },
  {
   "cell_type": "code",
   "execution_count": 12,
   "metadata": {},
   "outputs": [],
   "source": [
    "mygames = Games(\"match\" , \"cubes\")\n"
   ]
  },
  {
   "cell_type": "code",
   "execution_count": 13,
   "metadata": {},
   "outputs": [
    {
     "data": {
      "text/plain": [
       "['match', 'football']"
      ]
     },
     "execution_count": 13,
     "metadata": {},
     "output_type": "execute_result"
    }
   ],
   "source": [
    "mygames.sports_games"
   ]
  },
  {
   "cell_type": "code",
   "execution_count": 13,
   "metadata": {},
   "outputs": [
    {
     "data": {
      "text/plain": [
       "['cubes']"
      ]
     },
     "execution_count": 13,
     "metadata": {},
     "output_type": "execute_result"
    }
   ],
   "source": [
    "mygames.building_games"
   ]
  },
  {
   "cell_type": "code",
   "execution_count": 44,
   "metadata": {},
   "outputs": [],
   "source": [
    "myfood =Food(\"rice\" , \"option\") "
   ]
  },
  {
   "cell_type": "code",
   "execution_count": null,
   "metadata": {},
   "outputs": [
    {
     "data": {
      "text/plain": [
       "'rice'"
      ]
     },
     "execution_count": 7,
     "metadata": {},
     "output_type": "execute_result"
    }
   ],
   "source": [
    "myfood.foodstuffs"
   ]
  },
  {
   "cell_type": "code",
   "execution_count": null,
   "metadata": {},
   "outputs": [
    {
     "data": {
      "text/plain": [
       "'option'"
      ]
     },
     "execution_count": 30,
     "metadata": {},
     "output_type": "execute_result"
    }
   ],
   "source": [
    "myfood.freshproducts"
   ]
  },
  {
   "cell_type": "code",
   "execution_count": null,
   "metadata": {},
   "outputs": [],
   "source": [
    "myelect = Electrical_Tools(\"fresh\" , \"zanussi\")"
   ]
  },
  {
   "cell_type": "code",
   "execution_count": null,
   "metadata": {},
   "outputs": [
    {
     "data": {
      "text/plain": [
       "'fresh'"
      ]
     },
     "execution_count": 21,
     "metadata": {},
     "output_type": "execute_result"
    }
   ],
   "source": [
    "myelect.fridge"
   ]
  },
  {
   "cell_type": "code",
   "execution_count": null,
   "metadata": {},
   "outputs": [
    {
     "data": {
      "text/plain": [
       "'zanussi'"
      ]
     },
     "execution_count": 22,
     "metadata": {},
     "output_type": "execute_result"
    }
   ],
   "source": [
    "myelect.washing_machine"
   ]
  },
  {
   "cell_type": "code",
   "execution_count": 9,
   "metadata": {},
   "outputs": [],
   "source": [
    "class Detergents (Markets) :\n",
    "    def __init__(self ,ariel , oxy ,persi ) :\n",
    "        super().Quantities()\n",
    "        self.ariel = ariel\n",
    "        self.oxy = oxy \n",
    "        self.persi = persi\n",
    "\n",
    "    def add_ariel(self) :\n",
    "        self.add_ariel.append(add_ariel)\n",
    "\n",
    "    def add_oxy(self) :\n",
    "        self.add_oxy.append(add_oxy)\n",
    "\n",
    "    def add_persi(self) :\n",
    "        self.add_persi.append(add_persi)\n",
    "\n",
    "    def show_add_ariel(self) :\n",
    "        for add_ariel in self.check_your_oder :\n",
    "            print(add_ariel.check_your_oder)\n",
    "\n",
    "    def show_add_oxy (self) :\n",
    "        for add_oxy in self.check_your_oder :\n",
    "            print(add_oxy.check_your_oder)\n",
    "\n",
    "    def show_add_persi(self) :\n",
    "        for add_persil in self.check_your_oder :\n",
    "            print(add_persil.check_your_oder)\n"
   ]
  },
  {
   "cell_type": "code",
   "execution_count": null,
   "metadata": {},
   "outputs": [],
   "source": [
    "mydeter= Detergents(\"ariel\",\"oxy\",\"persi\")"
   ]
  },
  {
   "cell_type": "code",
   "execution_count": null,
   "metadata": {},
   "outputs": [
    {
     "data": {
      "text/plain": [
       "'ariel'"
      ]
     },
     "execution_count": 17,
     "metadata": {},
     "output_type": "execute_result"
    }
   ],
   "source": [
    "mydeter.ariel"
   ]
  },
  {
   "cell_type": "code",
   "execution_count": null,
   "metadata": {},
   "outputs": [
    {
     "data": {
      "text/plain": [
       "'oxy'"
      ]
     },
     "execution_count": 18,
     "metadata": {},
     "output_type": "execute_result"
    }
   ],
   "source": [
    "mydeter.oxy"
   ]
  },
  {
   "cell_type": "code",
   "execution_count": null,
   "metadata": {},
   "outputs": [
    {
     "data": {
      "text/plain": [
       "'persi'"
      ]
     },
     "execution_count": 19,
     "metadata": {},
     "output_type": "execute_result"
    }
   ],
   "source": [
    "mydeter.persi"
   ]
  },
  {
   "cell_type": "code",
   "execution_count": 10,
   "metadata": {},
   "outputs": [],
   "source": [
    "class ReadyFood(Markets):\n",
    "    def __init__(self,pastries,meat,rice,macaroni) :\n",
    "        super().Quantities()\n",
    "        self. pastries= pastries  \n",
    "        self.meat = meat\n",
    "        self.rice = rice\n",
    "        self.macaroni = macaroni\n",
    "\n",
    "    def add_pastries(self) :\n",
    "        self.add_pastries.append(add_pastries)  \n",
    "    \n",
    "    def add_meat(self) :\n",
    "        self.add_meat.append(add_meat)\n",
    "\n",
    "    def add_rice(self):\n",
    "        self.add_rice.append(add_rice)\n",
    "\n",
    "    def add_macaroni(self) :\n",
    "        self.add_macaroni.append(add_macaroni)\n",
    "\n",
    "    def show_add_pastries(self):\n",
    "        for add_pastries in self.check_your_oder :\n",
    "            print(add_pastries.check_your_oder) \n",
    "\n",
    "    def shoe_add_meat(self) :\n",
    "        for add_meat in self.check_your_oder :\n",
    "            print(add_meat.check_your_oder)\n",
    "\n",
    "    def show_add_rice(self) :\n",
    "        for add_rice in self.check_your_oder :\n",
    "            prinr(add_rice.check_your_oder)\n",
    "\n",
    "    def show_add_macaroni(self) :\n",
    "        for add_macaroni in self.check_your_oder  :\n",
    "            print(add_macaroni.check_your_oder) \n",
    "\n",
    "\n",
    "        "
   ]
  },
  {
   "cell_type": "code",
   "execution_count": 25,
   "metadata": {},
   "outputs": [],
   "source": [
    "myready = ReadyFood(\"pizza\" ,\"burger\",\"rice\" , \"macaroni\")"
   ]
  },
  {
   "cell_type": "code",
   "execution_count": null,
   "metadata": {},
   "outputs": [
    {
     "data": {
      "text/plain": [
       "'rice'"
      ]
     },
     "execution_count": 23,
     "metadata": {},
     "output_type": "execute_result"
    }
   ],
   "source": [
    "myready.rice"
   ]
  },
  {
   "cell_type": "code",
   "execution_count": null,
   "metadata": {},
   "outputs": [
    {
     "data": {
      "text/plain": [
       "'burger'"
      ]
     },
     "execution_count": 24,
     "metadata": {},
     "output_type": "execute_result"
    }
   ],
   "source": [
    "myready.meat"
   ]
  },
  {
   "cell_type": "code",
   "execution_count": null,
   "metadata": {},
   "outputs": [
    {
     "data": {
      "text/plain": [
       "'pizza'"
      ]
     },
     "execution_count": 25,
     "metadata": {},
     "output_type": "execute_result"
    }
   ],
   "source": [
    "myready.pastries"
   ]
  },
  {
   "cell_type": "code",
   "execution_count": 26,
   "metadata": {},
   "outputs": [
    {
     "data": {
      "text/plain": [
       "'macaroni'"
      ]
     },
     "execution_count": 26,
     "metadata": {},
     "output_type": "execute_result"
    }
   ],
   "source": [
    "myready.macaroni"
   ]
  },
  {
   "cell_type": "code",
   "execution_count": null,
   "metadata": {},
   "outputs": [],
   "source": []
  }
 ],
 "metadata": {
  "kernelspec": {
   "display_name": "Python 3",
   "language": "python",
   "name": "python3"
  },
  "language_info": {
   "codemirror_mode": {
    "name": "ipython",
    "version": 3
   },
   "file_extension": ".py",
   "mimetype": "text/x-python",
   "name": "python",
   "nbconvert_exporter": "python",
   "pygments_lexer": "ipython3",
   "version": "3.12.4"
  }
 },
 "nbformat": 4,
 "nbformat_minor": 2
}
